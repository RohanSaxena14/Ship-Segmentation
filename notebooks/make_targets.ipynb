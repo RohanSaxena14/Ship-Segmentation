{
 "cells": [
  {
   "cell_type": "code",
   "execution_count": null,
   "metadata": {},
   "outputs": [],
   "source": [
    "import os\n",
    "import cv2\n",
    "import tqdm\n",
    "import numpy as np\n",
    "import pandas as pd\n",
    "import matplotlib.pyplot as plt\n",
    "from src.utils import filename_without_ext, rle_decode"
   ]
  },
  {
   "cell_type": "code",
   "execution_count": null,
   "metadata": {},
   "outputs": [],
   "source": [
    "IMG_SIZE = (768, 768)\n",
    "# Path to the rle encoded ships in csv file should be used here\n",
    "masks_path = '../data/datasets/ships_small/train_ships_small.csv'\n",
    "# Path to the preliminarily created dataset folder for targets\n",
    "target_save_dir = '../data/datasets/ships_small/train_small/targets/'\n",
    "# Path to the preliminarily created dataset folder for images\n",
    "images_dir = '../data/datasets/ships_small/train_small/images/'\n",
    "SAVE_EXT = '.png'"
   ]
  },
  {
   "cell_type": "code",
   "execution_count": null,
   "metadata": {},
   "outputs": [],
   "source": [
    "masks = pd.read_csv(masks_path)\n",
    "masks.head(5)"
   ]
  },
  {
   "cell_type": "code",
   "execution_count": null,
   "metadata": {},
   "outputs": [],
   "source": [
    "print(len(os.listdir(images_dir)))\n",
    "print(len(masks.ImageId.unique()))"
   ]
  },
  {
   "cell_type": "code",
   "execution_count": null,
   "metadata": {},
   "outputs": [],
   "source": [
    "def imshow(img):\n",
    "    plt.figure(dpi=300)\n",
    "    plt.imshow(img)\n",
    "    plt.show()"
   ]
  },
  {
   "cell_type": "code",
   "execution_count": null,
   "metadata": {
    "scrolled": true
   },
   "outputs": [],
   "source": [
    "for ImageId in tqdm.tqdm(masks.ImageId.unique()):\n",
    "    img_masks = masks.loc[masks['ImageId'] == ImageId, 'EncodedPixels'].tolist()\n",
    "    all_masks = np.zeros(IMG_SIZE)\n",
    "    n = 0\n",
    "    for mask in img_masks:\n",
    "        if mask==mask:\n",
    "            decoded_mask = rle_decode(mask)\n",
    "            n+=1\n",
    "            all_masks += (decoded_mask*n)\n",
    "    # Save non empty samples only\n",
    "    if n > 0:\n",
    "        #imshow(all_masks)\n",
    "        cv2.imwrite(os.path.join(target_save_dir, filename_without_ext(ImageId))+SAVE_EXT, np.uint8(all_masks))"
   ]
  },
  {
   "cell_type": "code",
   "execution_count": null,
   "metadata": {},
   "outputs": [],
   "source": []
  }
 ],
 "metadata": {
  "kernelspec": {
   "display_name": "Python 3",
   "language": "python",
   "name": "python3"
  },
  "language_info": {
   "codemirror_mode": {
    "name": "ipython",
    "version": 3
   },
   "file_extension": ".py",
   "mimetype": "text/x-python",
   "name": "python",
   "nbconvert_exporter": "python",
   "pygments_lexer": "ipython3",
   "version": "3.6.7"
  }
 },
 "nbformat": 4,
 "nbformat_minor": 2
}
