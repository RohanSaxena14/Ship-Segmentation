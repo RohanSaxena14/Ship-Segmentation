{
 "cells": [
  {
   "cell_type": "code",
   "execution_count": null,
   "metadata": {},
   "outputs": [],
   "source": [
    "%reload_ext autoreload\n",
    "%autoreload 2\n",
    "\n",
    "import os\n",
    "import re\n",
    "import cv2\n",
    "import numpy as np\n",
    "\n",
    "import argus\n",
    "from argus import Model\n",
    "from argus import load_model\n",
    "from argus.engine import State\n",
    "from argus.callbacks import MonitorCheckpoint, EarlyStopping, LoggingToFile\n",
    "\n",
    "from src.utils import rle_decode\n",
    "\n",
    "import torch\n",
    "import torch.nn as nn\n",
    "import torch.nn.functional as F\n",
    "from torchvision.transforms import ToTensor\n",
    "from torch.utils.data import Dataset, DataLoader\n",
    "\n",
    "from src.models.unet_flex import UNetFlexProb\n",
    "from src.losses import ShipLoss\n",
    "from src.metrics import ShipIOUT\n",
    "from src.utils import  filename_without_ext\n",
    "from src.transforms import ProbOutputTransform, test_transforms, train_transforms\n",
    "from src.dataset import ShipDataset, ShipDatasetFolds\n",
    "from src.lr_scheduler import ReduceLROnPlateau\n",
    "from src.utils import get_best_model_path\n",
    "\n",
    "import matplotlib.pyplot as plt\n",
    "%matplotlib inline"
   ]
  },
  {
   "cell_type": "code",
   "execution_count": null,
   "metadata": {},
   "outputs": [],
   "source": [
    "IMG_SIZE = (256, 256)\n",
    "EPOCHS = 250\n",
    "BATCH_SIZE = 32\n",
    "TRAIN_SPLIT = 0.8  # Fraction to use for train\n",
    "LR = 1e-5\n",
    "\n",
    "save_path = '../data/models/linknet34_004b'\n",
    "\n",
    "IMG_EXT = '.jpg'\n",
    "TRG_EXT = '.png'"
   ]
  },
  {
   "cell_type": "code",
   "execution_count": null,
   "metadata": {},
   "outputs": [],
   "source": [
    "imgs_dir = '../data/datasets/ships_small/train_small/images/'\n",
    "trgs_dir = '../data/datasets/ships_small/train_small/targets/'\n",
    "\n",
    "imgs = os.listdir(trgs_dir)  # Only not empty\n",
    "img_ids = [filename_without_ext(img) for img in imgs]\n",
    "\n",
    "print(\"Images:\", len(img_ids))"
   ]
  },
  {
   "cell_type": "code",
   "execution_count": null,
   "metadata": {},
   "outputs": [],
   "source": [
    "SKIP_EMPTY_PROB = 0.9\n",
    "\n",
    "train_trns = train_transforms(size=IMG_SIZE, skip_empty_prob=SKIP_EMPTY_PROB, sigma_g=10)\n",
    "val_trns = test_transforms(size=IMG_SIZE)"
   ]
  },
  {
   "cell_type": "code",
   "execution_count": null,
   "metadata": {},
   "outputs": [],
   "source": [
    "def get_data_loaders(batch_size, ids):\n",
    "    n_images = len(ids)\n",
    "    n_train = round(n_images*TRAIN_SPLIT)\n",
    "    train_dataset = ShipDataset(ids[:n_train], imgs_dir=imgs_dir, trgs_dir=trgs_dir, masks=True, **train_trns)\n",
    "    val_dataset = ShipDataset(ids[n_train:], imgs_dir=imgs_dir, trgs_dir=trgs_dir, masks=True, **val_trns)\n",
    "    train_loader = DataLoader(train_dataset, batch_size=batch_size,\n",
    "                              shuffle=True, num_workers=8)\n",
    "    val_loader = DataLoader(val_dataset, batch_size=batch_size,\n",
    "                            shuffle=False, num_workers=8)\n",
    "    return train_loader, val_loader\n",
    "\n",
    "train_loader, val_loader = get_data_loaders(batch_size=BATCH_SIZE,\n",
    "                                            ids=img_ids)"
   ]
  },
  {
   "cell_type": "code",
   "execution_count": null,
   "metadata": {},
   "outputs": [],
   "source": [
    "def show_img(img):\n",
    "    plt.figure(dpi=200)\n",
    "    plt.imshow(img)\n",
    "    plt.show()\n",
    "\n",
    "def show_img_tensor(tensor):\n",
    "    img = np.moveaxis(tensor.numpy(), 0, -1)[:,:,::-1]\n",
    "    show_img(img)\n",
    "\n",
    "\n",
    "def show_in_cols(masks_list, n_col=3):\n",
    "    n_masks = len(masks_list)\n",
    "    n_row = n_masks//n_col\n",
    "    if n_masks % n_col > 0:\n",
    "        n_row += 1\n",
    "    \n",
    "    f, ax = plt.subplots(n_row, n_col, figsize=(18,6))\n",
    "    for i in range(n_masks):\n",
    "        a = ax[i//n_col][i%n_col]\n",
    "        a.imshow(masks_list[i])\n",
    "        a.axis('off')\n",
    "\n",
    "\n",
    "def show_trg_tensor(tensor):\n",
    "    masks = tensor.numpy()\n",
    "    masks_list = [masks[i, :, :] for i in range(masks.shape[0])]\n",
    "    show_in_cols(masks_list)"
   ]
  },
  {
   "cell_type": "code",
   "execution_count": null,
   "metadata": {},
   "outputs": [],
   "source": [
    "for img, trg in train_loader:\n",
    "    print(img.shape)"
   ]
  },
  {
   "cell_type": "code",
   "execution_count": null,
   "metadata": {
    "scrolled": true
   },
   "outputs": [],
   "source": [
    "n_images_to_draw = 2\n",
    "\n",
    "for img, trg in train_loader:\n",
    "    for i in range(n_images_to_draw):\n",
    "        \n",
    "        img_i = img[i, ...]\n",
    "        trg_i = trg[i, ...]\n",
    "        print(trg_i.shape)\n",
    "        print(trg_i[0, ...].shape, np.count_nonzero(trg_i[0, ...].data.numpy()), trg_i[0, ...].shape)\n",
    "        #show_img(trg_i[0, ...].data.numpy())\n",
    "        show_img_tensor(img_i)\n",
    "        show_trg_tensor(trg_i)\n",
    "    break"
   ]
  },
  {
   "cell_type": "code",
   "execution_count": null,
   "metadata": {},
   "outputs": [],
   "source": [
    "class ShipMetaModel(Model):\n",
    "    nn_module = {\n",
    "        'UNetFlexProb': UNetFlexProb,\n",
    "    }\n",
    "    loss = {\n",
    "        'ShipLoss': ShipLoss\n",
    "    }\n",
    "    prediction_transform = {\n",
    "        'ProbOutputTransform': ProbOutputTransform\n",
    "    }"
   ]
  },
  {
   "cell_type": "code",
   "execution_count": null,
   "metadata": {},
   "outputs": [],
   "source": [
    "from src.models.resnet_blocks import resnet34\n",
    "\n",
    "params = {'nn_module': ('UNetFlexProb', {\n",
    "            'num_classes': 5,\n",
    "            'num_channels': 3,\n",
    "            'blocks': resnet34,\n",
    "            'final': 'sigmoid',\n",
    "            'skip_dropout': True,\n",
    "            'dropout_2d': 0.2,\n",
    "            'is_deconv': True,\n",
    "            'pretrain': 'resnet34',\n",
    "            'pretrain_layers': [True for _ in range(5)]\n",
    "            }),\n",
    "        'loss': ('ShipLoss', {\n",
    "            'fb_weight': 0.25,  # Need tuning!\n",
    "            'fb_beta': 1,\n",
    "            'bce_weight': 0.25,\n",
    "            'prob_weight': 0.25,\n",
    "            'mse_weight': 1.0\n",
    "            }),\n",
    "        'prediction_transform': ('ProbOutputTransform', {\n",
    "            'segm_thresh': 0.5,\n",
    "            'prob_thresh': 0.5\n",
    "            }),\n",
    "        'optimizer': ('Adam', {'lr': LR}),\n",
    "        'device': 'cuda'\n",
    "    }\n",
    "\n",
    "model = ShipMetaModel(params)\n",
    "callbacks = [MonitorCheckpoint(save_path, monitor='val_iout', max_saves=2, copy_last=True),\n",
    "             EarlyStopping(monitor='val_iout', patience=60),\n",
    "             ReduceLROnPlateau(monitor='val_iout', patience=10, factor=0.5, min_lr=1e-8),\n",
    "             LoggingToFile(os.path.join(save_path, 'log.txt'))]"
   ]
  },
  {
   "cell_type": "code",
   "execution_count": null,
   "metadata": {},
   "outputs": [],
   "source": [
    "# pretrain_path = '../../data/models/linknet18_001/'\n",
    "\n",
    "# if pretrain_path is not None:\n",
    "#     model = load_model(get_best_model_path(pretrain_path))"
   ]
  },
  {
   "cell_type": "code",
   "execution_count": null,
   "metadata": {
    "scrolled": true
   },
   "outputs": [],
   "source": [
    "model.fit(train_loader,\n",
    "          val_loader=val_loader,\n",
    "          max_epochs=EPOCHS,\n",
    "          callbacks=callbacks,\n",
    "          metrics=['iout'])"
   ]
  },
  {
   "cell_type": "markdown",
   "metadata": {},
   "source": [
    "## Validate"
   ]
  },
  {
   "cell_type": "code",
   "execution_count": null,
   "metadata": {},
   "outputs": [],
   "source": [
    "import os\n",
    "os.environ[\"CUDA_DEVICE_ORDER\"]=\"PCI_BUS_ID\"\n",
    "os.environ[\"CUDA_VISIBLE_DEVICES\"]=\"0\""
   ]
  },
  {
   "cell_type": "code",
   "execution_count": null,
   "metadata": {
    "scrolled": true
   },
   "outputs": [],
   "source": [
    "save_path = '/workdir/data/models/linknet34_folds_007/fold_0/'\n",
    "model = load_model(get_best_model_path(save_path))\n",
    "model.prediction_transform.prob_thresh = 0.001\n",
    "model.nn_module.eval()"
   ]
  },
  {
   "cell_type": "code",
   "execution_count": null,
   "metadata": {
    "scrolled": false
   },
   "outputs": [],
   "source": [
    "folds_path = '/workdir/data/kfolds.pk'\n",
    "val_folds = [0]\n",
    "val_dataset = ShipDatasetFolds(folds_path, val_folds, imgs_dir=imgs_dir, trgs_dir=trgs_dir, masks=True, **val_trns)\n",
    "\n",
    "val_loader = DataLoader(val_dataset, batch_size=4,\n",
    "                        shuffle=False, num_workers=16)\n",
    "\n",
    "model.validate(val_loader, metrics=['iout'])"
   ]
  },
  {
   "cell_type": "markdown",
   "metadata": {},
   "source": [
    "linknet34_folds_006/fold_0/ val_train_iout 0.864456 'val_loss': 0.702380567754134, 'val_iout': 0.4743406742794948\n",
    "linknet34_folds_006/fold_1/ val_train_iout 0.873608 'val_loss': 0.7951664915043155, 'val_iout': 0.5019373756414277\n",
    "linknet34_folds_006/fold_2/ val_train_iout 0.860670 'val_loss': 0.7101081279212463, 'val_iout': 0.49924292177466073\n",
    "linknet34_folds_006/fold_3/ val_train_iout 0.840669 'val_loss': 0.5926205536820858, 'val_iout': 0.526805161714539\n",
    "linknet34_folds_006/fold_4/ val_train_iout 0.827383 'val_loss': 0.5521928212950905, 'val_iout': 0.5329581093189941\n",
    "\n",
    "linknet34_folds_008/fold_0 {'val_loss': 0.1019397437081371, 'val_iout': 0.5002803833605218}"
   ]
  },
  {
   "cell_type": "code",
   "execution_count": null,
   "metadata": {},
   "outputs": [],
   "source": []
  }
 ],
 "metadata": {
  "kernelspec": {
   "display_name": "Python 3",
   "language": "python",
   "name": "python3"
  },
  "language_info": {
   "codemirror_mode": {
    "name": "ipython",
    "version": 3
   },
   "file_extension": ".py",
   "mimetype": "text/x-python",
   "name": "python",
   "nbconvert_exporter": "python",
   "pygments_lexer": "ipython3",
   "version": "3.6.7"
  }
 },
 "nbformat": 4,
 "nbformat_minor": 2
}
